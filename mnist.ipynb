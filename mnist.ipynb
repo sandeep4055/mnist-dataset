{
 "cells": [
  {
   "cell_type": "markdown",
   "id": "8703c93c",
   "metadata": {},
   "source": [
    "# MNIST Dataset\n",
    " \n",
    "The MNIST database of handwritten digits, available from this page, has a training set of 60,000 examples, and a test set of 10,000 examples. It is a subset of a larger set available from NIST. The digits have been size-normalized and centered in a fixed-size image.\n",
    "It is a good database for people who want to try learning techniques and pattern recognition methods on real-world data while spending minimal efforts on preprocessing and formatting."
   ]
  },
  {
   "cell_type": "code",
   "execution_count": 1,
   "id": "ed78fe38",
   "metadata": {},
   "outputs": [],
   "source": [
    "import tensorflow as tf\n",
    "from tensorflow import keras\n",
    "import matplotlib.pyplot as plt\n",
    "import numpy as np"
   ]
  },
  {
   "cell_type": "code",
   "execution_count": 2,
   "id": "1647b7db",
   "metadata": {},
   "outputs": [],
   "source": [
    "dataset = keras.datasets.mnist.load_data()"
   ]
  },
  {
   "cell_type": "code",
   "execution_count": 3,
   "id": "7319c741",
   "metadata": {},
   "outputs": [
    {
     "data": {
      "text/plain": [
       "2"
      ]
     },
     "execution_count": 3,
     "metadata": {},
     "output_type": "execute_result"
    }
   ],
   "source": [
    "len(dataset)"
   ]
  },
  {
   "cell_type": "code",
   "execution_count": 4,
   "id": "241b94f2",
   "metadata": {},
   "outputs": [],
   "source": [
    "train , test = dataset"
   ]
  },
  {
   "cell_type": "code",
   "execution_count": 5,
   "id": "99b127b9",
   "metadata": {},
   "outputs": [
    {
     "data": {
      "text/plain": [
       "2"
      ]
     },
     "execution_count": 5,
     "metadata": {},
     "output_type": "execute_result"
    }
   ],
   "source": [
    "len(train)"
   ]
  },
  {
   "cell_type": "code",
   "execution_count": 6,
   "id": "50e6ed9d",
   "metadata": {},
   "outputs": [
    {
     "data": {
      "text/plain": [
       "2"
      ]
     },
     "execution_count": 6,
     "metadata": {},
     "output_type": "execute_result"
    }
   ],
   "source": [
    "len(test)"
   ]
  },
  {
   "cell_type": "code",
   "execution_count": 7,
   "id": "d7fe0802",
   "metadata": {},
   "outputs": [],
   "source": [
    "x_train , y_train = train"
   ]
  },
  {
   "cell_type": "code",
   "execution_count": 8,
   "id": "b0bc99ab",
   "metadata": {},
   "outputs": [],
   "source": [
    "x_test , y_test = test"
   ]
  },
  {
   "cell_type": "code",
   "execution_count": 9,
   "id": "454d9db5",
   "metadata": {},
   "outputs": [
    {
     "data": {
      "text/plain": [
       "(60000, 60000, 10000, 10000)"
      ]
     },
     "execution_count": 9,
     "metadata": {},
     "output_type": "execute_result"
    }
   ],
   "source": [
    "len(x_train) , len(y_train) , len(x_test), len(y_test)"
   ]
  },
  {
   "cell_type": "code",
   "execution_count": 10,
   "id": "f40f1bf7",
   "metadata": {},
   "outputs": [
    {
     "data": {
      "text/plain": [
       "(60000, 28, 28)"
      ]
     },
     "execution_count": 10,
     "metadata": {},
     "output_type": "execute_result"
    }
   ],
   "source": [
    "x_train.shape"
   ]
  },
  {
   "cell_type": "code",
   "execution_count": 11,
   "id": "8ce25562",
   "metadata": {},
   "outputs": [
    {
     "name": "stdout",
     "output_type": "stream",
     "text": [
      "0\n"
     ]
    },
    {
     "data": {
      "image/png": "[encoded data removed]",
      "text/plain": [
       "<Figure size 432x288 with 1 Axes>"
      ]
     },
     "metadata": {
      "needs_background": "light"
     },
     "output_type": "display_data"
    }
   ],
   "source": [
    "plt.imshow(x_train[6001])\n",
    "print(y_train[6001])"
   ]
  },
  {
   "cell_type": "code",
   "execution_count": 12,
   "id": "4adb9162",
   "metadata": {},
   "outputs": [
    {
     "data": {
      "text/plain": [
       "(60000, 784)"
      ]
     },
     "execution_count": 12,
     "metadata": {},
     "output_type": "execute_result"
    }
   ],
   "source": [
    "x_train_flattened = x_train.reshape(len(x_train),28*28)\n",
    "x_train_flattened.shape"
   ]
  },
  {
   "cell_type": "code",
   "execution_count": 13,
   "id": "0b4a8b1f",
   "metadata": {},
   "outputs": [
    {
     "data": {
      "text/plain": [
       "(10000, 784)"
      ]
     },
     "execution_count": 13,
     "metadata": {},
     "output_type": "execute_result"
    }
   ],
   "source": [
    "x_test_flattened = x_test.reshape(len(x_test),28*28)\n",
    "x_test_flattened.shape"
   ]
  },
  {
   "cell_type": "code",
   "execution_count": 15,
   "id": "c80ebb27",
   "metadata": {},
   "outputs": [
    {
     "name": "stdout",
     "output_type": "stream",
     "text": [
      "8\n"
     ]
    },
    {
     "data": {
      "image/png": "[encoded data removed]",
      "text/plain": [
       "<Figure size 432x288 with 1 Axes>"
      ]
     },
     "metadata": {
      "needs_background": "light"
     },
     "output_type": "display_data"
    }
   ],
   "source": [
    "plt.imshow(x_test[6001])\n",
    "print(y_test[6001])"
   ]
  },
  {
   "cell_type": "code",
   "execution_count": 18,
   "id": "fdf5fdd4",
   "metadata": {},
   "outputs": [
    {
     "name": "stdout",
     "output_type": "stream",
     "text": [
      "WARNING:tensorflow:From C:\\Users\\hi\\AppData\\Roaming\\Python\\Python36\\site-packages\\tensorflow_core\\python\\ops\\resource_variable_ops.py:1630: calling BaseResourceVariable.__init__ (from tensorflow.python.ops.resource_variable_ops) with constraint is deprecated and will be removed in a future version.\n",
      "Instructions for updating:\n",
      "If using Keras pass *_constraint arguments to layers.\n",
      "WARNING:tensorflow:From C:\\Users\\hi\\AppData\\Roaming\\Python\\Python36\\site-packages\\tensorflow_core\\python\\ops\\math_grad.py:1424: where (from tensorflow.python.ops.array_ops) is deprecated and will be removed in a future version.\n",
      "Instructions for updating:\n",
      "Use tf.where in 2.0, which has the same broadcast rule as np.where\n",
      "Train on 60000 samples\n",
      "Epoch 1/10\n",
      "60000/60000 [==============================] - 15s 244us/sample - loss: 2.4457 - acc: 0.5135\n",
      "Epoch 2/10\n",
      "60000/60000 [==============================] - 14s 234us/sample - loss: 1.4653 - acc: 0.5825\n",
      "Epoch 3/10\n",
      "60000/60000 [==============================] - 14s 234us/sample - loss: 1.3432 - acc: 0.5992\n",
      "Epoch 4/10\n",
      "60000/60000 [==============================] - 14s 234us/sample - loss: 1.3056 - acc: 0.6103\n",
      "Epoch 5/10\n",
      "60000/60000 [==============================] - 14s 234us/sample - loss: 1.3137 - acc: 0.6039\n",
      "Epoch 6/10\n",
      "60000/60000 [==============================] - 14s 234us/sample - loss: 1.2731 - acc: 0.6048\n",
      "Epoch 7/10\n",
      "60000/60000 [==============================] - 14s 233us/sample - loss: 1.2606 - acc: 0.6146\n",
      "Epoch 8/10\n",
      "60000/60000 [==============================] - 14s 234us/sample - loss: 1.2437 - acc: 0.6103\n",
      "Epoch 9/10\n",
      "60000/60000 [==============================] - 14s 234us/sample - loss: 1.2267 - acc: 0.6048\n",
      "Epoch 10/10\n",
      "60000/60000 [==============================] - 14s 234us/sample - loss: 1.2354 - acc: 0.6121\n"
     ]
    },
    {
     "data": {
      "text/plain": [
       "<tensorflow.python.keras.callbacks.History at 0x23714168c18>"
      ]
     },
     "execution_count": 18,
     "metadata": {},
     "output_type": "execute_result"
    }
   ],
   "source": [
    "model  = keras.Sequential([keras.layers.Dense(10,input_shape=(784,),activation=\"sigmoid\")])\n",
    "model.compile(optimizer=\"adam\",loss= \"sparse_categorical_crossentropy\",metrics=['accuracy'])\n",
    "model.fit(x_train_flattened,y_train,epochs=10)"
   ]
  },
  {
   "cell_type": "code",
   "execution_count": 23,
   "id": "2a56d1b3",
   "metadata": {},
   "outputs": [],
   "source": [
    "x_train_scaled = x_train/255\n",
    "x_test_scaled = x_test/255\n",
    "x_train_scaled_flattened = x_train_scaled.reshape(len(x_train),28*28)\n",
    "x_test_scaled_flattened = x_test_scaled.reshape(len(x_test),28*28)"
   ]
  },
  {
   "cell_type": "code",
   "execution_count": 24,
   "id": "af38a71e",
   "metadata": {},
   "outputs": [
    {
     "name": "stdout",
     "output_type": "stream",
     "text": [
      "Train on 60000 samples\n",
      "Epoch 1/10\n",
      "60000/60000 [==============================] - 14s 237us/sample - loss: 0.4924 - acc: 0.8759\n",
      "Epoch 2/10\n",
      "60000/60000 [==============================] - 14s 236us/sample - loss: 0.3060 - acc: 0.9152\n",
      "Epoch 3/10\n",
      "60000/60000 [==============================] - 14s 236us/sample - loss: 0.2861 - acc: 0.9209\n",
      "Epoch 4/10\n",
      "60000/60000 [==============================] - 14s 236us/sample - loss: 0.2752 - acc: 0.9238\n",
      "Epoch 5/10\n",
      "60000/60000 [==============================] - 14s 235us/sample - loss: 0.2681 - acc: 0.9257\n",
      "Epoch 6/10\n",
      "60000/60000 [==============================] - 14s 235us/sample - loss: 0.2625 - acc: 0.9271\n",
      "Epoch 7/10\n",
      "60000/60000 [==============================] - 14s 235us/sample - loss: 0.2590 - acc: 0.9288\n",
      "Epoch 8/10\n",
      "60000/60000 [==============================] - 14s 236us/sample - loss: 0.2559 - acc: 0.9305\n",
      "Epoch 9/10\n",
      "60000/60000 [==============================] - 14s 235us/sample - loss: 0.2531 - acc: 0.9309\n",
      "Epoch 10/10\n",
      "60000/60000 [==============================] - 14s 235us/sample - loss: 0.2504 - acc: 0.9309\n"
     ]
    },
    {
     "data": {
      "text/plain": [
       "<tensorflow.python.keras.callbacks.History at 0x23714208978>"
      ]
     },
     "execution_count": 24,
     "metadata": {},
     "output_type": "execute_result"
    }
   ],
   "source": [
    "model  = keras.Sequential([keras.layers.Dense(10,input_shape=(784,),activation=\"sigmoid\")])\n",
    "model.compile(optimizer=\"adam\",loss= \"sparse_categorical_crossentropy\",metrics=['accuracy'])\n",
    "model.fit(x_train_scaled_flattened,y_train,epochs=10)"
   ]
  },
  {
   "cell_type": "code",
   "execution_count": 25,
   "id": "d6faa7a9",
   "metadata": {},
   "outputs": [
    {
     "name": "stdout",
     "output_type": "stream",
     "text": [
      "10000/10000 [==============================] - 1s 126us/sample - loss: 0.2618 - acc: 0.9277\n"
     ]
    },
    {
     "data": {
      "text/plain": [
       "[0.26179305340349673, 0.9277]"
      ]
     },
     "execution_count": 25,
     "metadata": {},
     "output_type": "execute_result"
    }
   ],
   "source": [
    "model.evaluate(x_test_scaled_flattened,y_test)"
   ]
  },
  {
   "cell_type": "code",
   "execution_count": 30,
   "id": "e1b0d0c8",
   "metadata": {},
   "outputs": [
    {
     "data": {
      "text/plain": [
       "<matplotlib.image.AxesImage at 0x23713ac3780>"
      ]
     },
     "execution_count": 30,
     "metadata": {},
     "output_type": "execute_result"
    },
    {
     "data": {
      "image/png": "[encoded data removed]",
      "text/plain": [
       "<Figure size 432x288 with 1 Axes>"
      ]
     },
     "metadata": {
      "needs_background": "light"
     },
     "output_type": "display_data"
    }
   ],
   "source": [
    "plt.imshow(x_test[21])"
   ]
  },
  {
   "cell_type": "code",
   "execution_count": 31,
   "id": "c7bbb728",
   "metadata": {},
   "outputs": [
    {
     "data": {
      "text/plain": [
       "array([9.2928312e-06, 1.8943512e-08, 3.0434769e-04, 1.8183462e-05,\n",
       "       3.5990856e-06, 1.9362860e-03, 2.0579219e-01, 7.0145528e-11,\n",
       "       4.6402120e-04, 1.7702162e-08], dtype=float32)"
      ]
     },
     "execution_count": 31,
     "metadata": {},
     "output_type": "execute_result"
    }
   ],
   "source": [
    "y_pred = model.predict(x_test_scaled_flattened)\n",
    "y_pred[21]"
   ]
  },
  {
   "cell_type": "code",
   "execution_count": 45,
   "id": "153558e8",
   "metadata": {},
   "outputs": [
    {
     "data": {
      "text/plain": [
       "6"
      ]
     },
     "execution_count": 45,
     "metadata": {},
     "output_type": "execute_result"
    }
   ],
   "source": [
    "np.argmax(y_pred[21])"
   ]
  },
  {
   "cell_type": "code",
   "execution_count": 46,
   "id": "a6d72fbc",
   "metadata": {},
   "outputs": [
    {
     "data": {
      "text/plain": [
       "[7, 2, 1, 0, 4]"
      ]
     },
     "execution_count": 46,
     "metadata": {},
     "output_type": "execute_result"
    }
   ],
   "source": [
    "y_pred_labels = [np.argmax(i)for i in y_pred]\n",
    "y_pred_labels[:5]"
   ]
  },
  {
   "cell_type": "code",
   "execution_count": 54,
   "id": "191c9387",
   "metadata": {},
   "outputs": [
    {
     "data": {
      "text/plain": [
       "array([[ 962,    0,    0,    2,    0,    5,    8,    2,    1,    0],\n",
       "       [   0, 1111,    3,    2,    0,    1,    4,    2,   12,    0],\n",
       "       [   6,   10,  925,   14,    5,    4,   14,    9,   41,    4],\n",
       "       [   3,    0,   18,  918,    0,   20,    3,   12,   29,    7],\n",
       "       [   1,    1,    2,    2,  902,    0,   16,    4,   10,   44],\n",
       "       [  10,    2,    1,   32,    9,  770,   16,    7,   38,    7],\n",
       "       [  11,    3,    5,    1,    7,    9,  917,    1,    4,    0],\n",
       "       [   1,    6,   25,    4,    6,    1,    0,  945,    4,   36],\n",
       "       [   7,    6,    5,   14,    7,   17,   11,    7,  890,   10],\n",
       "       [   9,    6,    1,    9,   17,    5,    0,   16,    9,  937]],\n",
       "      dtype=int64)"
      ]
     },
     "execution_count": 54,
     "metadata": {},
     "output_type": "execute_result"
    }
   ],
   "source": [
    "from sklearn.metrics import confusion_matrix\n",
    "cm=confusion_matrix(y_test,y_pred_labels)\n",
    "cm"
   ]
  },
  {
   "cell_type": "code",
   "execution_count": 55,
   "id": "afc468ca",
   "metadata": {},
   "outputs": [
    {
     "data": {
      "text/plain": [
       "Text(69.0, 0.5, 'truth')"
      ]
     },
     "execution_count": 55,
     "metadata": {},
     "output_type": "execute_result"
    },
    {
     "data": {
      "image/png": "[encoded data removed]",
      "text/plain": [
       "<Figure size 720x504 with 2 Axes>"
      ]
     },
     "metadata": {
      "needs_background": "light"
     },
     "output_type": "display_data"
    }
   ],
   "source": [
    "import seaborn as sns\n",
    "plt.figure(figsize = (10,7))\n",
    "sns.heatmap(cm,annot=True,fmt=\"d\")\n",
    "plt.xlabel(\"predicted\")\n",
    "plt.ylabel(\"truth\")"
   ]
  },
  {
   "cell_type": "code",
   "execution_count": 56,
   "id": "3d7a716b",
   "metadata": {},
   "outputs": [
    {
     "name": "stdout",
     "output_type": "stream",
     "text": [
      "Train on 60000 samples\n",
      "Epoch 1/10\n",
      "60000/60000 [==============================] - 16s 270us/sample - loss: 0.2946 - acc: 0.9177\n",
      "Epoch 2/10\n",
      "60000/60000 [==============================] - 16s 269us/sample - loss: 0.1392 - acc: 0.9593\n",
      "Epoch 3/10\n",
      "60000/60000 [==============================] - 16s 268us/sample - loss: 0.0988 - acc: 0.9710\n",
      "Epoch 4/10\n",
      "60000/60000 [==============================] - 16s 268us/sample - loss: 0.0769 - acc: 0.9771\n",
      "Epoch 5/10\n",
      "60000/60000 [==============================] - 16s 268us/sample - loss: 0.0619 - acc: 0.9816\n",
      "Epoch 6/10\n",
      "60000/60000 [==============================] - 16s 268us/sample - loss: 0.0502 - acc: 0.9849\n",
      "Epoch 7/10\n",
      "60000/60000 [==============================] - 16s 268us/sample - loss: 0.0428 - acc: 0.9872\n",
      "Epoch 8/10\n",
      "60000/60000 [==============================] - 16s 268us/sample - loss: 0.0357 - acc: 0.9890\n",
      "Epoch 9/10\n",
      "60000/60000 [==============================] - 16s 268us/sample - loss: 0.0303 - acc: 0.9906\n",
      "Epoch 10/10\n",
      "60000/60000 [==============================] - 16s 268us/sample - loss: 0.0255 - acc: 0.9922\n"
     ]
    },
    {
     "data": {
      "text/plain": [
       "<tensorflow.python.keras.callbacks.History at 0x23714131160>"
      ]
     },
     "execution_count": 56,
     "metadata": {},
     "output_type": "execute_result"
    }
   ],
   "source": [
    "model  = keras.Sequential([keras.layers.Dense(100,input_shape=(784,),activation=\"relu\"),\n",
    "    keras.layers.Dense(10,activation=\"sigmoid\")])\n",
    "model.compile(optimizer=\"adam\",loss= \"sparse_categorical_crossentropy\",metrics=['accuracy'])\n",
    "model.fit(x_train_scaled_flattened,y_train,epochs=10)"
   ]
  },
  {
   "cell_type": "code",
   "execution_count": 57,
   "id": "1b894223",
   "metadata": {},
   "outputs": [
    {
     "name": "stdout",
     "output_type": "stream",
     "text": [
      "10000/10000 [==============================] - 1s 132us/sample - loss: 0.0801 - acc: 0.9777\n"
     ]
    },
    {
     "data": {
      "text/plain": [
       "[0.08010469762835419, 0.9777]"
      ]
     },
     "execution_count": 57,
     "metadata": {},
     "output_type": "execute_result"
    }
   ],
   "source": [
    "model.evaluate(x_test_scaled_flattened,y_test)"
   ]
  },
  {
   "cell_type": "code",
   "execution_count": 58,
   "id": "b586477f",
   "metadata": {},
   "outputs": [
    {
     "data": {
      "text/plain": [
       "Text(69.0, 0.5, 'truth')"
      ]
     },
     "execution_count": 58,
     "metadata": {},
     "output_type": "execute_result"
    },
    {
     "data": {
      "image/png": "[encoded data removed]",
      "text/plain": [
       "<Figure size 720x504 with 2 Axes>"
      ]
     },
     "metadata": {
      "needs_background": "light"
     },
     "output_type": "display_data"
    }
   ],
   "source": [
    "y_pred = model.predict(x_test_scaled_flattened)\n",
    "y_pred_labels = [np.argmax(i)for i in y_pred]\n",
    "cm=confusion_matrix(y_test,y_pred_labels)\n",
    "plt.figure(figsize = (10,7))\n",
    "sns.heatmap(cm,annot=True,fmt=\"d\")\n",
    "plt.xlabel(\"predicted\")\n",
    "plt.ylabel(\"truth\")"
   ]
  },
  {
   "cell_type": "code",
   "execution_count": null,
   "id": "e0420da2",
   "metadata": {},
   "outputs": [],
   "source": []
  }
 ],
 "metadata": {
  "kernelspec": {
   "display_name": "Python 3",
   "language": "python",
   "name": "python3"
  },
  "language_info": {
   "codemirror_mode": {
    "name": "ipython",
    "version": 3
   },
   "file_extension": ".py",
   "mimetype": "text/x-python",
   "name": "python",
   "nbconvert_exporter": "python",
   "pygments_lexer": "ipython3",
   "version": "3.6.13"
  }
 },
 "nbformat": 4,
 "nbformat_minor": 5
}
